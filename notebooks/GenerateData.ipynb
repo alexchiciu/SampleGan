{
 "cells": [
  {
   "cell_type": "code",
   "execution_count": 1,
   "metadata": {},
   "outputs": [],
   "source": [
    "import os\n",
    "import numpy as np\n",
    "import nibabel as nib\n",
    "from sklearn.preprocessing import StandardScaler\n",
    "import matplotlib.pyplot as plt"
   ]
  },
  {
   "cell_type": "code",
   "execution_count": 2,
   "metadata": {},
   "outputs": [],
   "source": [
    "path = \"../data/\"\n",
    "file = \"1010_brain_mr_06.nii.gz\"\n",
    "\n",
    "get_file = lambda path, filename : os.path.join(path,filename)"
   ]
  },
  {
   "cell_type": "code",
   "execution_count": 3,
   "metadata": {},
   "outputs": [],
   "source": [
    "def normalize_3d_matrix(matrix):\n",
    "    x,y,z = matrix.shape\n",
    "    matrix = StandardScaler().fit_transform(np.reshape(matrix, (-1,1)))\n",
    "    return np.reshape(matrix, (x,y,z))"
   ]
  },
  {
   "cell_type": "code",
   "execution_count": 4,
   "metadata": {},
   "outputs": [],
   "source": [
    "ct_image = nib.load(get_file(path, file))"
   ]
  },
  {
   "cell_type": "code",
   "execution_count": 5,
   "metadata": {},
   "outputs": [
    {
     "data": {
      "text/plain": [
       "(256, 320, 192)"
      ]
     },
     "execution_count": 5,
     "metadata": {},
     "output_type": "execute_result"
    }
   ],
   "source": [
    "rawArray = nib.squeeze_image(ct_image).get_fdata()\n",
    "normArray = np.load(\"testData.npy\")\n",
    "normArray.shape"
   ]
  },
  {
   "cell_type": "code",
   "execution_count": 6,
   "metadata": {},
   "outputs": [],
   "source": [
    "xstep,ystep,zstep = (0,0,0)\n",
    "subSetArray= None\n",
    "while normArray[xstep:xstep+20, ystep:ystep+20, zstep:zstep+20].shape== (20,20,20):\n",
    "    subArray = normArray[xstep:xstep+20, ystep:ystep+20, zstep:zstep+20]\n",
    "    if subSetArray is None:\n",
    "        subSetArray = subArray\n",
    "    else:\n",
    "        subSetArray = np.append(subSetArray,\n",
    "                                subArray)\n",
    "        \n",
    "    xstep+=20\n",
    "    ystep+=20\n",
    "    zstep+=20\n",
    "    \n"
   ]
  },
  {
   "cell_type": "code",
   "execution_count": 7,
   "metadata": {},
   "outputs": [
    {
     "data": {
      "text/plain": [
       "(72000,)"
      ]
     },
     "execution_count": 7,
     "metadata": {},
     "output_type": "execute_result"
    }
   ],
   "source": [
    "subSetArray.shape\n"
   ]
  },
  {
   "cell_type": "code",
   "execution_count": 8,
   "metadata": {},
   "outputs": [],
   "source": [
    "zstep-=8\n"
   ]
  },
  {
   "cell_type": "code",
   "execution_count": 9,
   "metadata": {},
   "outputs": [],
   "source": [
    "\n",
    "while normArray[xstep:xstep+20, ystep:ystep+20, zstep:zstep+20].shape== (20,20,20):\n",
    "    subArray = normArray[xstep:xstep+20, ystep:ystep+20, zstep:zstep+20]\n",
    "    if subSetArray is None:\n",
    "        subSetArray = subArray\n",
    "    else:\n",
    "        subSetArray = np.append(subSetArray,subArray)\n",
    "    xstep+=20\n",
    "    ystep+=20"
   ]
  },
  {
   "cell_type": "code",
   "execution_count": null,
   "metadata": {},
   "outputs": [],
   "source": [
    "\n"
   ]
  },
  {
   "cell_type": "code",
   "execution_count": 10,
   "metadata": {},
   "outputs": [
    {
     "data": {
      "text/plain": [
       "236"
      ]
     },
     "execution_count": 10,
     "metadata": {},
     "output_type": "execute_result"
    }
   ],
   "source": [
    "xstep-=4\n",
    "xstep\n"
   ]
  },
  {
   "cell_type": "code",
   "execution_count": 11,
   "metadata": {},
   "outputs": [],
   "source": [
    "while normArray[xstep:xstep+20, ystep:ystep+20, zstep:zstep+20].shape== (20,20,20):\n",
    "    subArray = normArray[xstep:xstep+20, ystep:ystep+20, zstep:zstep+20]\n",
    "    subSetArray = np.append(subSetArray,subArray)\n",
    "    ystep+=20\n"
   ]
  },
  {
   "cell_type": "code",
   "execution_count": 12,
   "metadata": {},
   "outputs": [
    {
     "data": {
      "text/plain": [
       "(128000,)"
      ]
     },
     "execution_count": 12,
     "metadata": {},
     "output_type": "execute_result"
    }
   ],
   "source": [
    "subSetArray.shape"
   ]
  },
  {
   "cell_type": "code",
   "execution_count": 13,
   "metadata": {},
   "outputs": [],
   "source": [
    "subSetArray = np.reshape(subSetArray, (16,20,20,20))"
   ]
  },
  {
   "cell_type": "code",
   "execution_count": 14,
   "metadata": {},
   "outputs": [
    {
     "data": {
      "text/plain": [
       "(16, 20, 20, 20)"
      ]
     },
     "execution_count": 14,
     "metadata": {},
     "output_type": "execute_result"
    }
   ],
   "source": [
    "subSetArray.shape"
   ]
  },
  {
   "cell_type": "code",
   "execution_count": 15,
   "metadata": {},
   "outputs": [],
   "source": [
    "np.save(\"testData\",subSetArray)"
   ]
  },
  {
   "cell_type": "code",
   "execution_count": null,
   "metadata": {},
   "outputs": [],
   "source": []
  },
  {
   "cell_type": "code",
   "execution_count": 81,
   "metadata": {},
   "outputs": [
    {
     "name": "stdout",
     "output_type": "stream",
     "text": [
      "(16, 20, 20, 20) (16, 20, 20, 20)\n"
     ]
    }
   ],
   "source": [
    "x = np.load(\"trainData.npy\")\n",
    "y = np.load(\"testData.npy\")\n",
    "print(x.shape, y.shape)"
   ]
  },
  {
   "cell_type": "code",
   "execution_count": null,
   "metadata": {},
   "outputs": [],
   "source": []
  },
  {
   "cell_type": "code",
   "execution_count": null,
   "metadata": {},
   "outputs": [],
   "source": [
    " X_train, X_test, y_train, y_test \n",
    "    = train_test_split(X, y, test_size=0.2, random_state=1)\n",
    "\n",
    " X_train, X_val, y_train, y_val \n",
    "    = train_test_split(X_train, y_train, test_size=0.25, random_state=1) # 0.25 x 0.8 = 0.2"
   ]
  }
 ],
 "metadata": {
  "kernelspec": {
   "display_name": "Python 3",
   "language": "python",
   "name": "python3"
  },
  "language_info": {
   "codemirror_mode": {
    "name": "ipython",
    "version": 3
   },
   "file_extension": ".py",
   "mimetype": "text/x-python",
   "name": "python",
   "nbconvert_exporter": "python",
   "pygments_lexer": "ipython3",
   "version": "3.8.5"
  }
 },
 "nbformat": 4,
 "nbformat_minor": 4
}
