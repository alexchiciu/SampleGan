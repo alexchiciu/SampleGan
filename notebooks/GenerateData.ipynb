{
 "cells": [
  {
   "cell_type": "code",
   "execution_count": 29,
   "metadata": {},
   "outputs": [],
   "source": [
    "import os\n",
    "import numpy as np\n",
    "import nibabel as nib\n",
    "from sklearn.preprocessing import StandardScaler\n",
    "import matplotlib.pyplot as plt"
   ]
  },
  {
   "cell_type": "code",
   "execution_count": 30,
   "metadata": {},
   "outputs": [],
   "source": [
    "downSampledArray = np.load(\"rescaled.npy\")\n",
    "originalArray = np.load(\"original.npy\")\n"
   ]
  },
  {
   "cell_type": "code",
   "execution_count": 31,
   "metadata": {},
   "outputs": [],
   "source": [
    "xstep,ystep,zstep = (0,0,0)\n",
    "\n",
    "def generateSubSets(matrix, xstep,ystep,zstep, updatex,updatey,updatez):\n",
    "    subSetArray= None\n",
    "    while matrix[xstep:xstep+20, ystep:ystep+20, zstep:zstep+20].shape== (20,20,20):\n",
    "        subArray = matrix[xstep:xstep+20, ystep:ystep+20, zstep:zstep+20]\n",
    "        if subSetArray is None:\n",
    "            subSetArray = subArray\n",
    "        else:\n",
    "            subSetArray = np.append(subSetArray,subArray)\n",
    "    \n",
    "        if updatex:\n",
    "            xstep+=20\n",
    "        if updatey:\n",
    "            ystep+=20\n",
    "        if updatez:\n",
    "            zstep+=20\n",
    "            \n",
    "    return subSetArray, xstep,ystep,zstep\n",
    "\n",
    "    \n"
   ]
  },
  {
   "cell_type": "code",
   "execution_count": 32,
   "metadata": {},
   "outputs": [],
   "source": [
    "downSampledSubsetArray, xstep,ystep,zstep = generateSubSets(downSampledArray, 0,0,0,True,True,True)\n"
   ]
  },
  {
   "cell_type": "code",
   "execution_count": 33,
   "metadata": {},
   "outputs": [],
   "source": [
    "zstep-=8\n",
    "subsetArray, xstep,ystep,zstep = generateSubSets(downSampledArray, xstep,ystep,zstep,True,True,False)\n",
    "downSampledSubsetArray = np.append(downSampledSubsetArray, subsetArray)"
   ]
  },
  {
   "cell_type": "code",
   "execution_count": 34,
   "metadata": {},
   "outputs": [
    {
     "name": "stdout",
     "output_type": "stream",
     "text": [
      "(128000,)\n"
     ]
    }
   ],
   "source": [
    "xstep-=4\n",
    "subsetArray, xstep,ystep,zstep = generateSubSets(downSampledArray, xstep,ystep,zstep,False,True,False)\n",
    "downSampledSubsetArray = np.append(downSampledSubsetArray, subsetArray)\n",
    "print(downSampledSubsetArray.shape)"
   ]
  },
  {
   "cell_type": "code",
   "execution_count": 35,
   "metadata": {},
   "outputs": [],
   "source": [
    "downSampledSubsetArray = np.reshape(downSampledSubsetArray, (16,20,20,20))\n",
    "np.save(\"rescaledSubsets\",downSampledSubsetArray)"
   ]
  },
  {
   "cell_type": "code",
   "execution_count": 36,
   "metadata": {},
   "outputs": [],
   "source": [
    "originalSubsetArray, xstep,ystep,zstep = generateSubSets(originalArray, 0,0,0,True,True,True)"
   ]
  },
  {
   "cell_type": "code",
   "execution_count": 37,
   "metadata": {},
   "outputs": [],
   "source": [
    "zstep-=8\n",
    "subsetArray, xstep,ystep,zstep = generateSubSets(originalArray, xstep,ystep,zstep,True,True,False)\n",
    "originalSubsetArray = np.append(originalSubsetArray, subsetArray)"
   ]
  },
  {
   "cell_type": "code",
   "execution_count": 38,
   "metadata": {},
   "outputs": [
    {
     "name": "stdout",
     "output_type": "stream",
     "text": [
      "(128000,)\n"
     ]
    }
   ],
   "source": [
    "xstep-=4\n",
    "subsetArray, xstep,ystep,zstep = generateSubSets(originalArray, xstep,ystep,zstep,False,True,False)\n",
    "originalSubsetArray = np.append(originalSubsetArray, subsetArray)\n",
    "print(originalSubsetArray.shape)"
   ]
  },
  {
   "cell_type": "code",
   "execution_count": 39,
   "metadata": {},
   "outputs": [],
   "source": [
    "originalSubsetArray = np.reshape(originalSubsetArray, (16,20,20,20))\n",
    "np.save(\"originalSubsets\",originalSubsetArray)"
   ]
  }
 ],
 "metadata": {
  "kernelspec": {
   "display_name": "Python 3",
   "language": "python",
   "name": "python3"
  },
  "language_info": {
   "codemirror_mode": {
    "name": "ipython",
    "version": 3
   },
   "file_extension": ".py",
   "mimetype": "text/x-python",
   "name": "python",
   "nbconvert_exporter": "python",
   "pygments_lexer": "ipython3",
   "version": "3.8.5"
  }
 },
 "nbformat": 4,
 "nbformat_minor": 4
}
