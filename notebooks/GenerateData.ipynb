{
 "cells": [
  {
   "cell_type": "code",
   "execution_count": 1,
   "metadata": {},
   "outputs": [],
   "source": [
    "import os\n",
    "import numpy as np\n",
    "import nibabel as nib\n",
    "from sklearn.preprocessing import StandardScaler\n",
    "import matplotlib.pyplot as plt\n",
    "import math"
   ]
  },
  {
   "cell_type": "code",
   "execution_count": 2,
   "metadata": {},
   "outputs": [],
   "source": [
    "downSampledArray = np.load(\"rescaled.npy\")\n",
    "originalArray = np.load(\"original.npy\")\n"
   ]
  },
  {
   "cell_type": "code",
   "execution_count": 3,
   "metadata": {},
   "outputs": [],
   "source": [
    "\n",
    "def generateSubSets(matrix,stepToTake):\n",
    "    step = 0\n",
    "\n",
    "    matrix = matrix.reshape(-1,1)\n",
    "    numSubsets = math.ceil(matrix.shape[0] / stepToTake)\n",
    "    subList = None\n",
    "    for _ in range(numSubsets):\n",
    "        subSetArray = matrix[step: step+stepToTake]\n",
    "        if subSetArray.shape != (stepToTake,1):\n",
    "            step -= (stepToTake - subSetArray.shape[0])\n",
    "            subSetArray = matrix[step: step +stepToTake]\n",
    "        \n",
    "        if subList is None:\n",
    "            subList = subSetArray\n",
    "        else:\n",
    "            subList = np.append(subList, subSetArray)\n",
    "        step+=stepToTake\n",
    "    return subList, numSubsets\n",
    "\n",
    "\n",
    "    \n"
   ]
  },
  {
   "cell_type": "code",
   "execution_count": 4,
   "metadata": {},
   "outputs": [],
   "source": [
    "downSampledSubsetArray, numSubSets = generateSubSets(downSampledArray, 8000)\n"
   ]
  },
  {
   "cell_type": "code",
   "execution_count": 5,
   "metadata": {},
   "outputs": [
    {
     "data": {
      "text/plain": [
       "(15736000,)"
      ]
     },
     "execution_count": 5,
     "metadata": {},
     "output_type": "execute_result"
    }
   ],
   "source": [
    "downSampledSubsetArray.shape"
   ]
  },
  {
   "cell_type": "code",
   "execution_count": 6,
   "metadata": {},
   "outputs": [],
   "source": [
    "downSampledSubsetArray = downSampledSubsetArray.reshape((numSubSets, 20,20,20))"
   ]
  },
  {
   "cell_type": "code",
   "execution_count": 7,
   "metadata": {},
   "outputs": [
    {
     "data": {
      "text/plain": [
       "(1967, 20, 20, 20)"
      ]
     },
     "execution_count": 7,
     "metadata": {},
     "output_type": "execute_result"
    }
   ],
   "source": [
    "downSampledSubsetArray.shape"
   ]
  },
  {
   "cell_type": "code",
   "execution_count": 8,
   "metadata": {},
   "outputs": [],
   "source": [
    "originalSubSetArray, numSubSets = generateSubSets(originalArray, 8000)\n"
   ]
  },
  {
   "cell_type": "code",
   "execution_count": 9,
   "metadata": {},
   "outputs": [],
   "source": [
    "originalSubSetArray = originalSubSetArray.reshape((numSubSets, 20,20,20))"
   ]
  },
  {
   "cell_type": "code",
   "execution_count": 10,
   "metadata": {},
   "outputs": [
    {
     "data": {
      "text/plain": [
       "(1967, 20, 20, 20)"
      ]
     },
     "execution_count": 10,
     "metadata": {},
     "output_type": "execute_result"
    }
   ],
   "source": [
    "originalSubSetArray.shape"
   ]
  },
  {
   "cell_type": "code",
   "execution_count": 11,
   "metadata": {},
   "outputs": [],
   "source": [
    "np.save(\"originalSubsets\", originalSubSetArray)\n",
    "np.save(\"rescaledSubsets\", downSampledSubsetArray)"
   ]
  }
 ],
 "metadata": {
  "kernelspec": {
   "display_name": "Python 3",
   "language": "python",
   "name": "python3"
  },
  "language_info": {
   "codemirror_mode": {
    "name": "ipython",
    "version": 3
   },
   "file_extension": ".py",
   "mimetype": "text/x-python",
   "name": "python",
   "nbconvert_exporter": "python",
   "pygments_lexer": "ipython3",
   "version": "3.8.5"
  }
 },
 "nbformat": 4,
 "nbformat_minor": 4
}
