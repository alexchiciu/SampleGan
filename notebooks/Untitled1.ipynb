{
 "cells": [
  {
   "cell_type": "code",
   "execution_count": 14,
   "metadata": {},
   "outputs": [],
   "source": [
    "import torch\n",
    "import torch.nn as nn\n",
    "import numpy as np\n",
    "from torch.utils.data import DataLoader, random_split, ChainDataset\n",
    "import torch.optim as optim\n",
    "import matplotlib.pyplot as plt "
   ]
  },
  {
   "cell_type": "code",
   "execution_count": 15,
   "metadata": {},
   "outputs": [],
   "source": [
    "device = torch.device(\"cuda:0\" if (torch.cuda.is_available()) else \"cpu\")\n"
   ]
  },
  {
   "cell_type": "code",
   "execution_count": 16,
   "metadata": {},
   "outputs": [],
   "source": [
    "class Discriminator(nn.Module):\n",
    "    def __init__(self):\n",
    "        super(Discriminator, self).__init__()\n",
    "        n_classes = 2\n",
    "        img_shape = (1,20,20,20)\n",
    "\n",
    "        self.label_embedding = nn.Embedding(n_classes, n_classes)\n",
    "        self.model = nn.Sequential(\n",
    "            nn.Linear((1*20*20*20), 512),\n",
    "            nn.LeakyReLU(0.2, inplace=True),\n",
    "            nn.Linear(512, 512),\n",
    "            nn.Dropout(0.4),\n",
    "            nn.LeakyReLU(0.2, inplace=True),\n",
    "            nn.Linear(512, 512),\n",
    "            nn.Dropout(0.4),\n",
    "            nn.LeakyReLU(0.2, inplace=True),\n",
    "            nn.Linear(512, 1),\n",
    "        )\n",
    "\n",
    "    def forward(self, img):\n",
    "        validity = self.model(img)\n",
    "        return validity\n"
   ]
  },
  {
   "cell_type": "code",
   "execution_count": 17,
   "metadata": {},
   "outputs": [],
   "source": [
    "import torch.nn.functional as F\n",
    "class Net(nn.Module):\n",
    "    def __init__(self):\n",
    "        super().__init__()\n",
    "        self.conv1 = nn.Conv3d(1, 10, kernel_size=2, padding=1)\n",
    "        self.conv2 = nn.Conv3d(10, 5, kernel_size=2, padding=1)\n",
    "        self.fc1 = nn.Linear(5 * 5 * 5, 32)\n",
    "        self.fc2 = nn.Linear(32, 2)\n",
    "    def forward(self, x):\n",
    "        out = F.max_pool2d(torch.tanh(self.conv1(x)), 2)\n",
    "        out = F.max_pool2d(torch.tanh(self.conv2(out)), 2)\n",
    "        out = out.view(-1, 5 * 5 * 5)\n",
    "        out = torch.tanh(self.fc1(out))\n",
    "        out = self.fc2(out)\n",
    "        return out"
   ]
  },
  {
   "cell_type": "code",
   "execution_count": 18,
   "metadata": {},
   "outputs": [
    {
     "data": {
      "text/plain": [
       "(1967, 20, 20, 20)"
      ]
     },
     "execution_count": 18,
     "metadata": {},
     "output_type": "execute_result"
    }
   ],
   "source": [
    "realImages = np.load(\"originalSubsets.npy\")\n",
    "realImages.shape"
   ]
  },
  {
   "cell_type": "code",
   "execution_count": 19,
   "metadata": {},
   "outputs": [
    {
     "data": {
      "text/plain": [
       "(1967, 20, 20, 20)"
      ]
     },
     "execution_count": 19,
     "metadata": {},
     "output_type": "execute_result"
    }
   ],
   "source": [
    "fakeImages = np.load(\"rescaledSubsets.npy\")\n",
    "fakeImages.shape"
   ]
  },
  {
   "cell_type": "code",
   "execution_count": 20,
   "metadata": {},
   "outputs": [],
   "source": [
    "import random\n",
    "random.shuffle(realImages)\n",
    "random.shuffle(fakeImages)\n",
    "data = []\n",
    "for realImage in realImages[:1960]:\n",
    "    data.append((realImage,0.))\n",
    "\n",
    "for fakeImage in fakeImages[:1960]:\n",
    "    data.append((fakeImage, 1.))"
   ]
  },
  {
   "cell_type": "code",
   "execution_count": 21,
   "metadata": {},
   "outputs": [],
   "source": [
    "data = DataLoader(data, shuffle=True)"
   ]
  },
  {
   "cell_type": "code",
   "execution_count": 22,
   "metadata": {},
   "outputs": [
    {
     "name": "stdout",
     "output_type": "stream",
     "text": [
      "Discriminator(\n",
      "  (label_embedding): Embedding(2, 2)\n",
      "  (model): Sequential(\n",
      "    (0): Linear(in_features=8000, out_features=512, bias=True)\n",
      "    (1): LeakyReLU(negative_slope=0.2, inplace=True)\n",
      "    (2): Linear(in_features=512, out_features=512, bias=True)\n",
      "    (3): Dropout(p=0.4, inplace=False)\n",
      "    (4): LeakyReLU(negative_slope=0.2, inplace=True)\n",
      "    (5): Linear(in_features=512, out_features=512, bias=True)\n",
      "    (6): Dropout(p=0.4, inplace=False)\n",
      "    (7): LeakyReLU(negative_slope=0.2, inplace=True)\n",
      "    (8): Linear(in_features=512, out_features=1, bias=True)\n",
      "  )\n",
      ")\n"
     ]
    }
   ],
   "source": [
    "model = Discriminator().to(device)\n",
    "print(model)"
   ]
  },
  {
   "cell_type": "code",
   "execution_count": 23,
   "metadata": {},
   "outputs": [],
   "source": [
    "lr = 0.0002\n",
    "\n",
    "\n",
    "adversarial_loss = torch.nn.MSELoss().to(device)\n",
    "\n",
    "optimizer_D = torch.optim.Adam(model.parameters(), lr=0.0002, betas=(0.5,0.999))\n",
    "\n"
   ]
  },
  {
   "cell_type": "code",
   "execution_count": 10,
   "metadata": {},
   "outputs": [
    {
     "name": "stdout",
     "output_type": "stream",
     "text": [
      "0.0824049636721611\n",
      "0.4341897666454315\n",
      "0.07769227772951126\n",
      "0.10423415154218674\n",
      "0.216607928276062\n",
      "0.1011505126953125\n",
      "0.36281266808509827\n",
      "0.149639293551445\n",
      "0.35406914353370667\n",
      "0.23816806077957153\n",
      "0.3114769756793976\n",
      "0.21711140871047974\n",
      "0.17857864499092102\n",
      "0.14613963663578033\n",
      "0.18909284472465515\n",
      "0.26582419872283936\n",
      "0.2508506178855896\n",
      "0.24726440012454987\n",
      "0.35994210839271545\n",
      "0.17532774806022644\n",
      "0.34712401032447815\n",
      "0.022489363327622414\n",
      "0.20701809227466583\n",
      "0.23945416510105133\n",
      "0.3290507197380066\n",
      "0.0999344140291214\n",
      "0.741817831993103\n",
      "0.5123153328895569\n",
      "0.24609068036079407\n",
      "0.28728872537612915\n",
      "0.1965416967868805\n",
      "0.031556177884340286\n",
      "0.902361273765564\n",
      "0.12280570715665817\n",
      "0.049818024039268494\n",
      "0.14264483749866486\n",
      "0.16613663733005524\n",
      "0.06465484946966171\n",
      "0.1847291737794876\n",
      "0.2107960283756256\n",
      "0.047076016664505005\n",
      "0.04430399090051651\n",
      "0.05376386642456055\n",
      "0.19069890677928925\n",
      "0.12266086786985397\n",
      "0.3185361325740814\n",
      "0.1361304372549057\n",
      "0.24078784883022308\n",
      "0.15572212636470795\n",
      "0.3216600716114044\n",
      "0.45191898941993713\n",
      "0.615407407283783\n",
      "0.21700261533260345\n",
      "0.00020969442266505212\n",
      "0.23230618238449097\n",
      "0.00023097444500308484\n",
      "0.0564703643321991\n",
      "0.35098206996917725\n",
      "0.27115750312805176\n",
      "0.22923234105110168\n",
      "0.1974892020225525\n",
      "0.22134298086166382\n",
      "0.2344610095024109\n",
      "0.2563430368900299\n",
      "0.19383111596107483\n",
      "0.08951373398303986\n",
      "0.3064383268356323\n",
      "0.18318840861320496\n",
      "0.18876774609088898\n",
      "0.2342362403869629\n",
      "0.09749732166528702\n",
      "0.2957701086997986\n",
      "0.25184279680252075\n",
      "0.3130982518196106\n",
      "0.23008038103580475\n",
      "0.15544253587722778\n",
      "0.2545086145401001\n",
      "0.17953085899353027\n",
      "0.001705404371023178\n",
      "0.18305134773254395\n",
      "0.2267240732908249\n",
      "0.17431403696537018\n",
      "0.199167862534523\n",
      "0.3002966642379761\n",
      "0.22900597751140594\n",
      "0.6241118907928467\n",
      "0.3666453957557678\n",
      "0.5233495235443115\n",
      "0.10988659411668777\n",
      "0.26994529366493225\n",
      "0.017762504518032074\n",
      "0.011199777014553547\n",
      "0.23687762022018433\n",
      "0.23620930314064026\n",
      "0.10214407742023468\n",
      "0.01217278465628624\n",
      "0.061683788895606995\n",
      "0.0007278036791831255\n",
      "0.28820231556892395\n",
      "0.00013172959734220058\n"
     ]
    }
   ],
   "source": [
    "iterations = 100\n",
    "x = []\n",
    "l = []\n",
    "for epoch in range(1, iterations+1):\n",
    "    loss_train = 0.0\n",
    "    for (img, label) in data:\n",
    "        \n",
    "        img = img.view(-1).float().to(device)\n",
    "        label = label.float().to(device)\n",
    "        model.eval()\n",
    "        output = model(img)\n",
    "        optimizer_D.zero_grad()\n",
    "        # Calculate loss on all-real batch\n",
    "         = adversarial_loss(output, label)\n",
    "        # Calculate gradients for D in backward pass\n",
    "        errD_real.backward()\n",
    "        optimizer_D.step()\n",
    "    x.append(epoch)\n",
    "    l.append(errD_real.item())\n",
    "    print(errD_real.item())\n"
   ]
  },
  {
   "cell_type": "code",
   "execution_count": 13,
   "metadata": {},
   "outputs": [
    {
     "data": {
      "text/plain": [
       "[<matplotlib.lines.Line2D at 0x7f17d119bcd0>]"
      ]
     },
     "execution_count": 13,
     "metadata": {},
     "output_type": "execute_result"
    },
    {
     "data": {
      "image/png": "[encoded data removed]",
      "text/plain": [
       "<Figure size 432x288 with 1 Axes>"
      ]
     },
     "metadata": {
      "needs_background": "light"
     },
     "output_type": "display_data"
    }
   ],
   "source": [
    "plt.plot(x,l)"
   ]
  },
  {
   "cell_type": "code",
   "execution_count": null,
   "metadata": {},
   "outputs": [],
   "source": []
  },
  {
   "cell_type": "code",
   "execution_count": null,
   "metadata": {},
   "outputs": [],
   "source": []
  }
 ],
 "metadata": {
  "kernelspec": {
   "display_name": "Python 3",
   "language": "python",
   "name": "python3"
  },
  "language_info": {
   "codemirror_mode": {
    "name": "ipython",
    "version": 3
   },
   "file_extension": ".py",
   "mimetype": "text/x-python",
   "name": "python",
   "nbconvert_exporter": "python",
   "pygments_lexer": "ipython3",
   "version": "3.8.5"
  }
 },
 "nbformat": 4,
 "nbformat_minor": 4
}
