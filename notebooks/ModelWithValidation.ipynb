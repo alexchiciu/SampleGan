{
 "cells": [
  {
   "cell_type": "code",
   "execution_count": 1,
   "metadata": {},
   "outputs": [],
   "source": [
    "import torch\n",
    "import torch.nn as nn\n",
    "import numpy as np\n",
    "from torch.utils.data import DataLoader, random_split, ChainDataset\n",
    "import torch.optim as optim\n",
    "import matplotlib.pyplot as plt \n",
    "import torch.nn.functional as F\n"
   ]
  },
  {
   "cell_type": "code",
   "execution_count": 2,
   "metadata": {},
   "outputs": [],
   "source": [
    "device = torch.device(\"cuda:0\" if (torch.cuda.is_available()) else \"cpu\")\n"
   ]
  },
  {
   "cell_type": "code",
   "execution_count": 3,
   "metadata": {},
   "outputs": [],
   "source": [
    "class Net(nn.Module):\n",
    "    def __init__(self):\n",
    "        super(Net, self).__init__()\n",
    "        self.conv1 = nn.Conv3d(1, 10, kernel_size=3)\n",
    "        self.conv2 = nn.Conv3d(10, 20, kernel_size=3)\n",
    "        self.conv2_drop = nn.Dropout3d()\n",
    "        self.fc1 = nn.Linear(540, 100)\n",
    "        self.fc2 = nn.Linear(100, 2)\n",
    "\n",
    "    def forward(self, x):\n",
    "        x = F.relu(F.max_pool3d(self.conv1(x), 2))\n",
    "        x = F.relu(F.max_pool3d(self.conv2_drop(self.conv2(x)), 2))\n",
    "        x = x.view(-1, 540)\n",
    "        x = F.relu(self.fc1(x))\n",
    "        x = F.dropout(x, training=self.training)\n",
    "        x = self.fc2(x)\n",
    "        return F.log_softmax(x)"
   ]
  },
  {
   "cell_type": "code",
   "execution_count": 4,
   "metadata": {},
   "outputs": [
    {
     "data": {
      "text/plain": [
       "(1967, 20, 20, 20)"
      ]
     },
     "execution_count": 4,
     "metadata": {},
     "output_type": "execute_result"
    }
   ],
   "source": [
    "realImages = np.load(\"originalSubsets.npy\")\n",
    "realImages.shape"
   ]
  },
  {
   "cell_type": "code",
   "execution_count": 5,
   "metadata": {},
   "outputs": [
    {
     "data": {
      "text/plain": [
       "(1967, 20, 20, 20)"
      ]
     },
     "execution_count": 5,
     "metadata": {},
     "output_type": "execute_result"
    }
   ],
   "source": [
    "fakeImages = np.load(\"rescaledSubsets.npy\")\n",
    "fakeImages.shape"
   ]
  },
  {
   "cell_type": "code",
   "execution_count": 6,
   "metadata": {},
   "outputs": [],
   "source": [
    "import random\n",
    "random.shuffle(realImages)\n",
    "random.shuffle(fakeImages)"
   ]
  },
  {
   "cell_type": "code",
   "execution_count": 7,
   "metadata": {},
   "outputs": [],
   "source": [
    "def addInfoToList(imageList, label, dataList):\n",
    "    for image in imageList:\n",
    "        dataList.append((image,label))\n",
    "\n",
    "def getDataLoaderFromList(dataList):\n",
    "    return DataLoader(dataList, shuffle=True)"
   ]
  },
  {
   "cell_type": "code",
   "execution_count": 8,
   "metadata": {},
   "outputs": [
    {
     "name": "stdout",
     "output_type": "stream",
     "text": [
      "1966\n"
     ]
    }
   ],
   "source": [
    "trainData = []\n",
    "\n",
    "trainDataSize = len(realImages) //2\n",
    "\n",
    "addInfoToList(realImages[:trainDataSize], 0., trainData)\n",
    "\n",
    "addInfoToList(fakeImages[:trainDataSize], 1., trainData)\n",
    "\n",
    "print(len(trainData))"
   ]
  },
  {
   "cell_type": "code",
   "execution_count": 9,
   "metadata": {},
   "outputs": [
    {
     "name": "stdout",
     "output_type": "stream",
     "text": [
      "982\n"
     ]
    }
   ],
   "source": [
    "validateData = []\n",
    "\n",
    "validateDataSize = len(realImages) //4\n",
    "validateDataSize +=trainDataSize\n",
    "addInfoToList(realImages[trainDataSize: validateDataSize], 0., validateData)\n",
    "addInfoToList(fakeImages[trainDataSize: validateDataSize], 1., validateData)\n",
    "\n",
    "print(len(validateData))"
   ]
  },
  {
   "cell_type": "code",
   "execution_count": 10,
   "metadata": {},
   "outputs": [
    {
     "name": "stdout",
     "output_type": "stream",
     "text": [
      "986\n"
     ]
    }
   ],
   "source": [
    "testData = []\n",
    "\n",
    "addInfoToList(realImages[validateDataSize:], 0., testData)\n",
    "addInfoToList(fakeImages[validateDataSize:], 1., testData)\n",
    "print(len(testData))"
   ]
  },
  {
   "cell_type": "code",
   "execution_count": 11,
   "metadata": {},
   "outputs": [],
   "source": [
    "trainData = getDataLoaderFromList(trainData)\n",
    "\n",
    "validateData = getDataLoaderFromList(validateData)\n",
    "\n",
    "testData = getDataLoaderFromList(testData)"
   ]
  },
  {
   "cell_type": "code",
   "execution_count": 12,
   "metadata": {},
   "outputs": [],
   "source": [
    "def getAccuracyFromModel(model, dataSet):\n",
    "    test_losses = []\n",
    "    model.eval()\n",
    "    test_loss = 0\n",
    "    correct = 0\n",
    "    \n",
    "    with torch.no_grad():\n",
    "        for img,label in dataSet:\n",
    "            img, label = img.unsqueeze(0).float().to(device), label.long().to(device)\n",
    "            output = model(img)\n",
    "            test_loss += F.nll_loss(output, label, size_average=False).item()\n",
    "            pred = output.data.max(1, keepdim=True)[1]\n",
    "            if pred == label:\n",
    "                correct+=1\n",
    "        test_loss /= len(testData)\n",
    "        test_losses.append(test_loss)\n",
    "        model.train()\n",
    "        return float(correct/len(dataSet))\n"
   ]
  },
  {
   "cell_type": "code",
   "execution_count": 13,
   "metadata": {},
   "outputs": [],
   "source": [
    "learning_rate = 0.001\n",
    "momentum = 0.5\n",
    "\n"
   ]
  },
  {
   "cell_type": "code",
   "execution_count": 14,
   "metadata": {},
   "outputs": [],
   "source": [
    "model = Net().to(device)\n",
    "optimizer = optim.SGD(model.parameters(), lr=learning_rate,\n",
    "                      momentum=momentum)"
   ]
  },
  {
   "cell_type": "code",
   "execution_count": 15,
   "metadata": {
    "scrolled": false
   },
   "outputs": [
    {
     "name": "stderr",
     "output_type": "stream",
     "text": [
      "<ipython-input-3-5341c141cdcd>:17: UserWarning: Implicit dimension choice for log_softmax has been deprecated. Change the call to include dim=X as an argument.\n",
      "  return F.log_softmax(x)\n",
      "/home/alex/anaconda3/envs/ml/lib/python3.8/site-packages/torch/nn/_reduction.py:44: UserWarning: size_average and reduce args will be deprecated, please use reduction='sum' instead.\n",
      "  warnings.warn(warning.format(ret))\n"
     ]
    },
    {
     "name": "stdout",
     "output_type": "stream",
     "text": [
      "Epoch # 1 Accuracy = 49.18533604887983\n",
      "Epoch # 2 Accuracy = 50.61099796334012\n",
      "Epoch # 3 Accuracy = 52.342158859470466\n",
      "Epoch # 4 Accuracy = 50.509164969450104\n",
      "Epoch # 5 Accuracy = 49.38900203665988\n",
      "Epoch # 6 Accuracy = 51.01832993890021\n",
      "Epoch # 7 Accuracy = 53.462321792260695\n",
      "Epoch # 8 Accuracy = 51.425661914460285\n",
      "Epoch # 9 Accuracy = 51.5274949083503\n",
      "Epoch # 10 Accuracy = 51.5274949083503\n",
      "Epoch # 11 Accuracy = 55.80448065173116\n",
      "Epoch # 12 Accuracy = 56.61914460285132\n",
      "Epoch # 13 Accuracy = 57.43380855397149\n",
      "Epoch # 14 Accuracy = 53.76782077393075\n",
      "Epoch # 15 Accuracy = 65.37678207739307\n",
      "Epoch # 16 Accuracy = 54.073319755600814\n",
      "Epoch # 17 Accuracy = 61.608961303462316\n",
      "Epoch # 18 Accuracy = 69.75560081466395\n",
      "Epoch # 19 Accuracy = 73.72708757637476\n",
      "Epoch # 20 Accuracy = 75.35641547861506\n",
      "Epoch # 21 Accuracy = 74.43991853360488\n",
      "Epoch # 22 Accuracy = 64.86761710794298\n",
      "Epoch # 23 Accuracy = 78.92057026476579\n",
      "Epoch # 24 Accuracy = 79.63340122199592\n",
      "Epoch # 25 Accuracy = 79.12423625254583\n",
      "Epoch # 26 Accuracy = 74.33808553971487\n",
      "Epoch # 27 Accuracy = 79.53156822810591\n",
      "Epoch # 28 Accuracy = 81.26272912423626\n",
      "Epoch # 29 Accuracy = 79.73523421588594\n",
      "Epoch # 30 Accuracy = 83.19755600814665\n",
      "Epoch # 31 Accuracy = 76.17107942973523\n",
      "Epoch # 32 Accuracy = 85.03054989816701\n",
      "Epoch # 33 Accuracy = 86.15071283095723\n",
      "Epoch # 34 Accuracy = 82.58655804480651\n",
      "Epoch # 35 Accuracy = 83.60488798370672\n",
      "Epoch # 36 Accuracy = 76.17107942973523\n",
      "Epoch # 37 Accuracy = 79.83706720977597\n",
      "Epoch # 38 Accuracy = 74.74541751527495\n",
      "Epoch # 39 Accuracy = 92.56619144602851\n",
      "Epoch # 40 Accuracy = 95.01018329938901\n",
      "Epoch # 41 Accuracy = 87.4745417515275\n",
      "Epoch # 42 Accuracy = 87.9837067209776\n",
      "Epoch # 43 Accuracy = 93.68635437881873\n",
      "Epoch # 44 Accuracy = 90.22403258655804\n",
      "Epoch # 45 Accuracy = 82.17922606924644\n",
      "Epoch # 46 Accuracy = 79.93890020366598\n",
      "Epoch # 47 Accuracy = 91.34419551934828\n",
      "Epoch # 48 Accuracy = 90.83503054989816\n",
      "Epoch # 49 Accuracy = 86.86354378818737\n"
     ]
    }
   ],
   "source": [
    "epochList = []\n",
    "\n",
    "trainLossList = []\n",
    "trainAccuracyList = []\n",
    "validationAccuracyList = []\n",
    "\n",
    "\n",
    "prevAccuracy = None\n",
    "\n",
    "for epoch in range(1, 50):\n",
    "    train_loss = 0\n",
    "    for batch_idx, (img, target) in enumerate(trainData):\n",
    "        img, target = img.unsqueeze(0).float().to(device), target.long().to(device)\n",
    "        optimizer.zero_grad()\n",
    "        output = model(img)\n",
    "        loss = F.nll_loss(output, target)\n",
    "        loss.backward()\n",
    "        train_loss+=loss.item()\n",
    "        optimizer.step()\n",
    "    validationAccuracy = getAccuracyFromModel(model, validateData) * 100.\n",
    "    trainingAccuracy = getAccuracyFromModel(model, trainData) * 100.\n",
    "    \n",
    "    epochList.append(epoch)\n",
    "    trainLossList.append(train_loss)    \n",
    "    trainAccuracyList.append(trainingAccuracy)\n",
    "    validationAccuracyList.append(validationAccuracy)\n",
    "    \n",
    "    print(\"Epoch # \" + str(epoch) + \" Accuracy = \" + str(validationAccuracy))\n",
    "    if prevAccuracy is None or validationAccuracy > prevAccuracy:\n",
    "        prevAccuracy = validationAccuracy\n",
    "        torch.save(model, 'bestModel.pkl')\n",
    "\n",
    "\n",
    "\n"
   ]
  },
  {
   "cell_type": "code",
   "execution_count": 16,
   "metadata": {},
   "outputs": [
    {
     "data": {
      "text/plain": [
       "[<matplotlib.lines.Line2D at 0x7f417c387d90>]"
      ]
     },
     "execution_count": 16,
     "metadata": {},
     "output_type": "execute_result"
    },
    {
     "data": {
      "image/png": "[encoded data removed]",
      "text/plain": [
       "<Figure size 432x288 with 1 Axes>"
      ]
     },
     "metadata": {
      "needs_background": "light"
     },
     "output_type": "display_data"
    }
   ],
   "source": [
    "plt.plot(epochList, trainLossList)"
   ]
  },
  {
   "cell_type": "code",
   "execution_count": 17,
   "metadata": {},
   "outputs": [
    {
     "data": {
      "image/png": "[encoded data removed]",
      "text/plain": [
       "<Figure size 432x288 with 1 Axes>"
      ]
     },
     "metadata": {
      "needs_background": "light"
     },
     "output_type": "display_data"
    }
   ],
   "source": [
    "plt.plot(epochList, trainAccuracyList, label= \"Train\")\n",
    "plt.plot(epochList, validationAccuracyList, label = \"Validate\")\n",
    "plt.legend()\n",
    "plt.show()"
   ]
  },
  {
   "cell_type": "code",
   "execution_count": 18,
   "metadata": {},
   "outputs": [
    {
     "name": "stderr",
     "output_type": "stream",
     "text": [
      "<ipython-input-3-5341c141cdcd>:17: UserWarning: Implicit dimension choice for log_softmax has been deprecated. Change the call to include dim=X as an argument.\n",
      "  return F.log_softmax(x)\n"
     ]
    },
    {
     "name": "stdout",
     "output_type": "stream",
     "text": [
      "Accuracy on testData 95.63894523326572\n"
     ]
    }
   ],
   "source": [
    "model = torch.load('bestModel.pkl')\n",
    "accuracy = getAccuracyFromModel(model, testData) * 100.\n",
    "print(\"Accuracy on testData \" + str(accuracy))\n"
   ]
  }
 ],
 "metadata": {
  "kernelspec": {
   "display_name": "Python 3",
   "language": "python",
   "name": "python3"
  },
  "language_info": {
   "codemirror_mode": {
    "name": "ipython",
    "version": 3
   },
   "file_extension": ".py",
   "mimetype": "text/x-python",
   "name": "python",
   "nbconvert_exporter": "python",
   "pygments_lexer": "ipython3",
   "version": "3.8.5"
  }
 },
 "nbformat": 4,
 "nbformat_minor": 4
}
