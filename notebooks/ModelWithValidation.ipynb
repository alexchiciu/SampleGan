{
 "cells": [
  {
   "cell_type": "code",
   "execution_count": 1,
   "metadata": {},
   "outputs": [],
   "source": [
    "import torch\n",
    "import torch.nn as nn\n",
    "import numpy as np\n",
    "from torch.utils.data import DataLoader, random_split, ChainDataset\n",
    "import torch.optim as optim\n",
    "import matplotlib.pyplot as plt \n",
    "import torch.nn.functional as F\n"
   ]
  },
  {
   "cell_type": "code",
   "execution_count": 2,
   "metadata": {},
   "outputs": [],
   "source": [
    "device = torch.device(\"cuda:0\" if (torch.cuda.is_available()) else \"cpu\")\n"
   ]
  },
  {
   "cell_type": "code",
   "execution_count": 3,
   "metadata": {},
   "outputs": [],
   "source": [
    "class Discriminator(nn.Module):\n",
    "    def __init__(self):\n",
    "        super(Discriminator, self).__init__()\n",
    "        sequence = [\n",
    "            nn.Conv3d(1, 10, kernel_size=3, stride = 1, padding = 1),\n",
    "            nn.MaxPool3d(2),\n",
    "            nn.LeakyReLU(),\n",
    "            nn.Conv3d(10, 20, kernel_size=3, stride = 1 , padding = 1),\n",
    "            nn.MaxPool3d(2),\n",
    "            nn.LeakyReLU(),\n",
    "            nn.Flatten(),\n",
    "            nn.Linear(2500, 250),\n",
    "            nn.LeakyReLU(),\n",
    "            nn.Linear(250, 50),\n",
    "            nn.LeakyReLU(),\n",
    "            nn.Linear(50, 1),\n",
    "            nn.LeakyReLU()\n",
    "        ]\n",
    "        self.sequence = nn.Sequential(*sequence)\n",
    "\n",
    "    def forward(self, x):\n",
    "        return self.sequence(x)"
   ]
  },
  {
   "cell_type": "code",
   "execution_count": 4,
   "metadata": {},
   "outputs": [
    {
     "data": {
      "text/plain": [
       "(1967, 20, 20, 20)"
      ]
     },
     "execution_count": 4,
     "metadata": {},
     "output_type": "execute_result"
    }
   ],
   "source": [
    "realImages = np.load(\"originalSubsets.npy\")\n",
    "realImages.shape"
   ]
  },
  {
   "cell_type": "code",
   "execution_count": 5,
   "metadata": {},
   "outputs": [
    {
     "data": {
      "text/plain": [
       "(1967, 20, 20, 20)"
      ]
     },
     "execution_count": 5,
     "metadata": {},
     "output_type": "execute_result"
    }
   ],
   "source": [
    "fakeImages = np.load(\"rescaledSubsets.npy\")\n",
    "fakeImages.shape"
   ]
  },
  {
   "cell_type": "code",
   "execution_count": 6,
   "metadata": {},
   "outputs": [],
   "source": [
    "import random\n",
    "random.shuffle(realImages)\n",
    "random.shuffle(fakeImages)"
   ]
  },
  {
   "cell_type": "code",
   "execution_count": 7,
   "metadata": {},
   "outputs": [],
   "source": [
    "def addInfoToList(imageList, label, dataList):\n",
    "    for image in imageList:\n",
    "        dataList.append((image,label))\n",
    "\n",
    "def getDataLoaderFromList(dataList):\n",
    "    return DataLoader(dataList, shuffle=True)"
   ]
  },
  {
   "cell_type": "code",
   "execution_count": 8,
   "metadata": {},
   "outputs": [
    {
     "name": "stdout",
     "output_type": "stream",
     "text": [
      "1966\n"
     ]
    }
   ],
   "source": [
    "trainData = []\n",
    "\n",
    "trainDataSize = len(realImages) //2\n",
    "\n",
    "addInfoToList(realImages[:trainDataSize], 0., trainData)\n",
    "\n",
    "addInfoToList(fakeImages[:trainDataSize], 1., trainData)\n",
    "\n",
    "print(len(trainData))"
   ]
  },
  {
   "cell_type": "code",
   "execution_count": 9,
   "metadata": {},
   "outputs": [
    {
     "name": "stdout",
     "output_type": "stream",
     "text": [
      "982\n"
     ]
    }
   ],
   "source": [
    "validateData = []\n",
    "\n",
    "validateDataSize = len(realImages) //4\n",
    "validateDataSize +=trainDataSize\n",
    "addInfoToList(realImages[trainDataSize: validateDataSize], 0., validateData)\n",
    "addInfoToList(fakeImages[trainDataSize: validateDataSize], 1., validateData)\n",
    "\n",
    "print(len(validateData))"
   ]
  },
  {
   "cell_type": "code",
   "execution_count": 10,
   "metadata": {},
   "outputs": [
    {
     "name": "stdout",
     "output_type": "stream",
     "text": [
      "986\n"
     ]
    }
   ],
   "source": [
    "testData = []\n",
    "\n",
    "addInfoToList(realImages[validateDataSize:], 0., testData)\n",
    "addInfoToList(fakeImages[validateDataSize:], 1., testData)\n",
    "print(len(testData))"
   ]
  },
  {
   "cell_type": "code",
   "execution_count": 11,
   "metadata": {},
   "outputs": [],
   "source": [
    "trainData = getDataLoaderFromList(trainData)\n",
    "\n",
    "validateData = getDataLoaderFromList(validateData)\n",
    "\n",
    "testData = getDataLoaderFromList(testData)"
   ]
  },
  {
   "cell_type": "code",
   "execution_count": 12,
   "metadata": {},
   "outputs": [],
   "source": [
    "def getAccuracyFromModel(model, dataSet):\n",
    "    test_losses = []\n",
    "    model.eval()\n",
    "    test_loss = 0\n",
    "    correct = 0\n",
    "    \n",
    "    with torch.no_grad():\n",
    "        for img,label in dataSet:\n",
    "            img, label = img.unsqueeze(0).float().to(device), label.long().to(device)\n",
    "            output = model(img)\n",
    "            test_loss += modelLoss(output, label).item()\n",
    "            #print(label, output)\n",
    "            pred = output.view(-1)\n",
    "            if label == 1 and pred >= .5:\n",
    "                correct+=1\n",
    "            elif label == 0 and pred < .5:\n",
    "                correct +=1\n",
    "        test_loss /= len(dataSet)\n",
    "        test_losses.append(test_loss)\n",
    "        model.train()\n",
    "        return float(correct/len(dataSet))\n"
   ]
  },
  {
   "cell_type": "code",
   "execution_count": 13,
   "metadata": {},
   "outputs": [],
   "source": [
    "learning_rate = 0.001\n",
    "momentum = 0.5\n",
    "\n"
   ]
  },
  {
   "cell_type": "code",
   "execution_count": 14,
   "metadata": {},
   "outputs": [],
   "source": [
    "model = Discriminator().to(device)\n",
    "optimizer = optim.Adam(model.parameters(), lr=learning_rate)\n",
    "modelLoss = torch.nn.MSELoss()"
   ]
  },
  {
   "cell_type": "code",
   "execution_count": 15,
   "metadata": {
    "scrolled": false
   },
   "outputs": [
    {
     "name": "stderr",
     "output_type": "stream",
     "text": [
      "/home/alex/anaconda3/envs/ml/lib/python3.8/site-packages/torch/nn/modules/loss.py:446: UserWarning: Using a target size (torch.Size([1])) that is different to the input size (torch.Size([1, 1])). This will likely lead to incorrect results due to broadcasting. Please ensure they have the same size.\n",
      "  return F.mse_loss(input, target, reduction=self.reduction)\n"
     ]
    },
    {
     "name": "stdout",
     "output_type": "stream",
     "text": [
      "Epoch # 1 Accuracy = 50.0\n",
      "Epoch # 2 Accuracy = 50.0\n",
      "Epoch # 3 Accuracy = 73.11608961303462\n",
      "Epoch # 4 Accuracy = 60.28513238289206\n",
      "Epoch # 5 Accuracy = 81.87372708757637\n",
      "Epoch # 6 Accuracy = 80.95723014256619\n",
      "Epoch # 7 Accuracy = 61.30346232179226\n",
      "Epoch # 8 Accuracy = 75.35641547861506\n",
      "Epoch # 9 Accuracy = 82.17922606924644\n",
      "Epoch # 10 Accuracy = 69.85743380855396\n",
      "Epoch # 11 Accuracy = 83.19755600814665\n",
      "Epoch # 12 Accuracy = 84.62321792260693\n",
      "Epoch # 13 Accuracy = 91.85336048879837\n",
      "Epoch # 14 Accuracy = 90.020366598778\n",
      "Epoch # 15 Accuracy = 91.85336048879837\n",
      "Epoch # 16 Accuracy = 76.37474541751527\n",
      "Epoch # 17 Accuracy = 80.04073319755601\n",
      "Epoch # 18 Accuracy = 76.4765784114053\n",
      "Epoch # 19 Accuracy = 91.0386965376782\n",
      "Epoch # 20 Accuracy = 92.4643584521385\n",
      "Epoch # 21 Accuracy = 91.85336048879837\n",
      "Epoch # 22 Accuracy = 92.56619144602851\n",
      "Epoch # 23 Accuracy = 72.81059063136456\n",
      "Epoch # 24 Accuracy = 88.90020366598777\n",
      "Epoch # 25 Accuracy = 79.0224032586558\n",
      "Epoch # 26 Accuracy = 91.75152749490834\n",
      "Epoch # 27 Accuracy = 80.24439918533605\n",
      "Epoch # 28 Accuracy = 72.70875763747455\n",
      "Epoch # 29 Accuracy = 93.68635437881873\n",
      "Epoch # 30 Accuracy = 93.07535641547861\n",
      "Epoch # 31 Accuracy = 87.16904276985743\n",
      "Epoch # 32 Accuracy = 87.4745417515275\n",
      "Epoch # 33 Accuracy = 93.07535641547861\n",
      "Epoch # 34 Accuracy = 93.48268839103869\n",
      "Epoch # 35 Accuracy = 93.9918533604888\n",
      "Epoch # 36 Accuracy = 91.64969450101833\n",
      "Epoch # 37 Accuracy = 92.76985743380855\n",
      "Epoch # 38 Accuracy = 86.0488798370672\n",
      "Epoch # 39 Accuracy = 91.75152749490834\n",
      "Epoch # 40 Accuracy = 90.93686354378818\n",
      "Epoch # 41 Accuracy = 94.39918533604889\n",
      "Epoch # 42 Accuracy = 93.68635437881873\n",
      "Epoch # 43 Accuracy = 91.54786150712832\n",
      "Epoch # 44 Accuracy = 88.90020366598777\n",
      "Epoch # 45 Accuracy = 80.04073319755601\n",
      "Epoch # 46 Accuracy = 84.11405295315683\n",
      "Epoch # 47 Accuracy = 94.39918533604889\n",
      "Epoch # 48 Accuracy = 94.60285132382892\n",
      "Epoch # 49 Accuracy = 93.27902240325867\n",
      "Epoch # 50 Accuracy = 82.68839103869654\n",
      "Epoch # 51 Accuracy = 95.01018329938901\n",
      "Epoch # 52 Accuracy = 91.75152749490834\n",
      "Epoch # 53 Accuracy = 93.07535641547861\n",
      "Epoch # 54 Accuracy = 90.73319755600815\n",
      "Epoch # 55 Accuracy = 94.80651731160896\n",
      "Epoch # 56 Accuracy = 93.9918533604888\n",
      "Epoch # 57 Accuracy = 93.89002036659878\n",
      "Epoch # 58 Accuracy = 86.9653767820774\n",
      "Epoch # 59 Accuracy = 78.00407331975559\n",
      "Epoch # 60 Accuracy = 92.76985743380855\n",
      "Epoch # 61 Accuracy = 95.21384928716904\n",
      "Epoch # 62 Accuracy = 73.0142566191446\n",
      "Epoch # 63 Accuracy = 93.78818737270875\n",
      "Epoch # 64 Accuracy = 93.68635437881873\n",
      "Epoch # 65 Accuracy = 87.06720977596741\n",
      "Epoch # 66 Accuracy = 92.15885947046843\n",
      "Epoch # 67 Accuracy = 91.95519348268839\n",
      "Epoch # 68 Accuracy = 89.91853360488798\n",
      "Epoch # 69 Accuracy = 93.48268839103869\n",
      "Epoch # 70 Accuracy = 93.58452138492872\n",
      "Epoch # 71 Accuracy = 94.80651731160896\n",
      "Epoch # 72 Accuracy = 91.14052953156822\n",
      "Epoch # 73 Accuracy = 78.61507128309573\n",
      "Epoch # 74 Accuracy = 91.44602851323829\n",
      "Epoch # 75 Accuracy = 94.19551934826885\n",
      "Epoch # 76 Accuracy = 88.59470468431772\n",
      "Epoch # 77 Accuracy = 93.58452138492872\n",
      "Epoch # 78 Accuracy = 94.90835030549898\n",
      "Epoch # 79 Accuracy = 93.68635437881873\n",
      "Epoch # 80 Accuracy = 91.64969450101833\n",
      "Epoch # 81 Accuracy = 93.27902240325867\n",
      "Epoch # 82 Accuracy = 87.16904276985743\n",
      "Epoch # 83 Accuracy = 96.13034623217924\n",
      "Epoch # 84 Accuracy = 82.17922606924644\n",
      "Epoch # 85 Accuracy = 93.17718940936864\n",
      "Epoch # 86 Accuracy = 90.83503054989816\n",
      "Epoch # 87 Accuracy = 94.70468431771894\n",
      "Epoch # 88 Accuracy = 95.82484725050917\n",
      "Epoch # 89 Accuracy = 93.48268839103869\n",
      "Epoch # 90 Accuracy = 92.87169042769857\n",
      "Epoch # 91 Accuracy = 93.89002036659878\n",
      "Epoch # 92 Accuracy = 94.19551934826885\n",
      "Epoch # 93 Accuracy = 93.27902240325867\n",
      "Epoch # 94 Accuracy = 92.9735234215886\n",
      "Epoch # 95 Accuracy = 93.17718940936864\n",
      "Epoch # 96 Accuracy = 92.87169042769857\n",
      "Epoch # 97 Accuracy = 93.48268839103869\n",
      "Epoch # 98 Accuracy = 94.09368635437882\n",
      "Epoch # 99 Accuracy = 92.56619144602851\n",
      "Epoch # 100 Accuracy = 91.64969450101833\n"
     ]
    }
   ],
   "source": [
    "epochList = []\n",
    "\n",
    "trainLossList = []\n",
    "trainAccuracyList = []\n",
    "validationAccuracyList = []\n",
    "\n",
    "\n",
    "prevAccuracy = None\n",
    "\n",
    "for epoch in range(1, 101):\n",
    "    train_loss = 0\n",
    "    for batch_idx, (img, target) in enumerate(trainData):\n",
    "        img, target = img.unsqueeze(0).float().to(device), target.float().to(device)\n",
    "        optimizer.zero_grad()\n",
    "        output = model(img).view(-1)\n",
    "        loss = modelLoss(output, target)\n",
    "        loss.backward()\n",
    "        train_loss+=loss.item()\n",
    "        optimizer.step()\n",
    "    validationAccuracy = getAccuracyFromModel(model, validateData) * 100.\n",
    "    trainingAccuracy = getAccuracyFromModel(model, trainData) * 100.\n",
    "    \n",
    "    epochList.append(epoch)\n",
    "    trainLossList.append(train_loss)    \n",
    "    trainAccuracyList.append(trainingAccuracy)\n",
    "    validationAccuracyList.append(validationAccuracy)\n",
    "    \n",
    "    print(\"Epoch # \" + str(epoch) + \" Accuracy = \" + str(validationAccuracy))\n",
    "    if prevAccuracy is None or validationAccuracy > prevAccuracy:\n",
    "        prevAccuracy = validationAccuracy\n",
    "        torch.save(model, 'bestModel.pkl')\n",
    "\n",
    "\n",
    "\n"
   ]
  },
  {
   "cell_type": "code",
   "execution_count": 16,
   "metadata": {},
   "outputs": [
    {
     "data": {
      "text/plain": [
       "[<matplotlib.lines.Line2D at 0x7f653540e2b0>]"
      ]
     },
     "execution_count": 16,
     "metadata": {},
     "output_type": "execute_result"
    },
    {
     "data": {
      "image/png": "[encoded data removed]",
      "text/plain": [
       "<Figure size 432x288 with 1 Axes>"
      ]
     },
     "metadata": {
      "needs_background": "light"
     },
     "output_type": "display_data"
    }
   ],
   "source": [
    "plt.plot(epochList, trainLossList)"
   ]
  },
  {
   "cell_type": "code",
   "execution_count": 17,
   "metadata": {},
   "outputs": [
    {
     "data": {
      "image/png": "[encoded data removed]",
      "text/plain": [
       "<Figure size 432x288 with 1 Axes>"
      ]
     },
     "metadata": {
      "needs_background": "light"
     },
     "output_type": "display_data"
    }
   ],
   "source": [
    "plt.plot(epochList, trainAccuracyList, label= \"Train\")\n",
    "plt.plot(epochList, validationAccuracyList, label = \"Validate\")\n",
    "plt.legend()\n",
    "plt.show()"
   ]
  },
  {
   "cell_type": "code",
   "execution_count": 18,
   "metadata": {},
   "outputs": [
    {
     "name": "stdout",
     "output_type": "stream",
     "text": [
      "Accuracy on testData 95.53752535496957\n"
     ]
    }
   ],
   "source": [
    "model = torch.load('bestModel.pkl')\n",
    "accuracy = getAccuracyFromModel(model, testData) * 100.\n",
    "print(\"Accuracy on testData \" + str(accuracy))\n"
   ]
  },
  {
   "cell_type": "code",
   "execution_count": null,
   "metadata": {},
   "outputs": [],
   "source": []
  },
  {
   "cell_type": "code",
   "execution_count": null,
   "metadata": {},
   "outputs": [],
   "source": []
  }
 ],
 "metadata": {
  "kernelspec": {
   "display_name": "Python 3",
   "language": "python",
   "name": "python3"
  },
  "language_info": {
   "codemirror_mode": {
    "name": "ipython",
    "version": 3
   },
   "file_extension": ".py",
   "mimetype": "text/x-python",
   "name": "python",
   "nbconvert_exporter": "python",
   "pygments_lexer": "ipython3",
   "version": "3.8.5"
  }
 },
 "nbformat": 4,
 "nbformat_minor": 4
}
