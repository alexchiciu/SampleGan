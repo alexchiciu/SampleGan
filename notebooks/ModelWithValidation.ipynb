{
 "cells": [
  {
   "cell_type": "code",
   "execution_count": 1,
   "metadata": {},
   "outputs": [],
   "source": [
    "import torch\n",
    "import torch.nn as nn\n",
    "import numpy as np\n",
    "from torch.utils.data import DataLoader, random_split, ChainDataset\n",
    "import torch.optim as optim\n",
    "import matplotlib.pyplot as plt \n",
    "import torch.nn.functional as F\n"
   ]
  },
  {
   "cell_type": "code",
   "execution_count": 2,
   "metadata": {},
   "outputs": [],
   "source": [
    "device = torch.device(\"cuda:0\" if (torch.cuda.is_available()) else \"cpu\")\n"
   ]
  },
  {
   "cell_type": "code",
   "execution_count": 3,
   "metadata": {},
   "outputs": [],
   "source": [
    "class Net(nn.Module):\n",
    "    def __init__(self):\n",
    "        super(Net, self).__init__()\n",
    "        self.conv1 = nn.Conv3d(1, 10, kernel_size=3)\n",
    "        self.conv2 = nn.Conv3d(10, 20, kernel_size=3)\n",
    "        self.conv2_drop = nn.Dropout3d()\n",
    "        self.fc1 = nn.Linear(540, 100)\n",
    "        self.fc2 = nn.Linear(100, 2)\n",
    "\n",
    "    def forward(self, x):\n",
    "        x = F.relu(F.max_pool3d(self.conv1(x), 2))\n",
    "        x = F.relu(F.max_pool3d(self.conv2_drop(self.conv2(x)), 2))\n",
    "        x = x.view(-1, 540)\n",
    "        x = F.relu(self.fc1(x))\n",
    "        x = F.dropout(x, training=self.training)\n",
    "        x = self.fc2(x)\n",
    "        return F.log_softmax(x, dim=1)"
   ]
  },
  {
   "cell_type": "code",
   "execution_count": 4,
   "metadata": {},
   "outputs": [
    {
     "data": {
      "text/plain": [
       "(1967, 20, 20, 20)"
      ]
     },
     "execution_count": 4,
     "metadata": {},
     "output_type": "execute_result"
    }
   ],
   "source": [
    "realImages = np.load(\"originalSubsets.npy\")\n",
    "realImages.shape"
   ]
  },
  {
   "cell_type": "code",
   "execution_count": 5,
   "metadata": {},
   "outputs": [
    {
     "data": {
      "text/plain": [
       "(1967, 20, 20, 20)"
      ]
     },
     "execution_count": 5,
     "metadata": {},
     "output_type": "execute_result"
    }
   ],
   "source": [
    "fakeImages = np.load(\"rescaledSubsets.npy\")\n",
    "fakeImages.shape"
   ]
  },
  {
   "cell_type": "code",
   "execution_count": 6,
   "metadata": {},
   "outputs": [],
   "source": [
    "import random\n",
    "random.shuffle(realImages)\n",
    "random.shuffle(fakeImages)"
   ]
  },
  {
   "cell_type": "code",
   "execution_count": 7,
   "metadata": {},
   "outputs": [],
   "source": [
    "def addInfoToList(imageList, label, dataList):\n",
    "    for image in imageList:\n",
    "        dataList.append((image,label))\n",
    "\n",
    "def getDataLoaderFromList(dataList):\n",
    "    return DataLoader(dataList, shuffle=True)"
   ]
  },
  {
   "cell_type": "code",
   "execution_count": 8,
   "metadata": {},
   "outputs": [
    {
     "name": "stdout",
     "output_type": "stream",
     "text": [
      "1966\n"
     ]
    }
   ],
   "source": [
    "trainData = []\n",
    "\n",
    "trainDataSize = len(realImages) //2\n",
    "\n",
    "addInfoToList(realImages[:trainDataSize], 0., trainData)\n",
    "\n",
    "addInfoToList(fakeImages[:trainDataSize], 1., trainData)\n",
    "\n",
    "print(len(trainData))"
   ]
  },
  {
   "cell_type": "code",
   "execution_count": 9,
   "metadata": {},
   "outputs": [
    {
     "name": "stdout",
     "output_type": "stream",
     "text": [
      "982\n"
     ]
    }
   ],
   "source": [
    "validateData = []\n",
    "\n",
    "validateDataSize = len(realImages) //4\n",
    "validateDataSize +=trainDataSize\n",
    "addInfoToList(realImages[trainDataSize: validateDataSize], 0., validateData)\n",
    "addInfoToList(fakeImages[trainDataSize: validateDataSize], 1., validateData)\n",
    "\n",
    "print(len(validateData))"
   ]
  },
  {
   "cell_type": "code",
   "execution_count": 10,
   "metadata": {},
   "outputs": [
    {
     "name": "stdout",
     "output_type": "stream",
     "text": [
      "986\n"
     ]
    }
   ],
   "source": [
    "testData = []\n",
    "\n",
    "addInfoToList(realImages[validateDataSize:], 0., testData)\n",
    "addInfoToList(fakeImages[validateDataSize:], 1., testData)\n",
    "print(len(testData))"
   ]
  },
  {
   "cell_type": "code",
   "execution_count": 11,
   "metadata": {},
   "outputs": [],
   "source": [
    "trainData = getDataLoaderFromList(trainData)\n",
    "\n",
    "validateData = getDataLoaderFromList(validateData)\n",
    "\n",
    "testData = getDataLoaderFromList(testData)"
   ]
  },
  {
   "cell_type": "code",
   "execution_count": 12,
   "metadata": {},
   "outputs": [],
   "source": [
    "def getAccuracyFromModel(model, dataSet):\n",
    "    test_losses = []\n",
    "    model.eval()\n",
    "    test_loss = 0\n",
    "    correct = 0\n",
    "    \n",
    "    with torch.no_grad():\n",
    "        for img,label in dataSet:\n",
    "            img, label = img.unsqueeze(0).float().to(device), label.long().to(device)\n",
    "            output = model(img)\n",
    "            test_loss += F.nll_loss(output, label, reduction='sum').item()\n",
    "            pred = output.data.max(1, keepdim=True)[1]\n",
    "            if pred == label:\n",
    "                correct+=1\n",
    "        test_loss /= len(dataSet)\n",
    "        test_losses.append(test_loss)\n",
    "        model.train()\n",
    "        return float(correct/len(dataSet))\n"
   ]
  },
  {
   "cell_type": "code",
   "execution_count": 13,
   "metadata": {},
   "outputs": [],
   "source": [
    "learning_rate = 0.001\n",
    "momentum = 0.5\n",
    "\n"
   ]
  },
  {
   "cell_type": "code",
   "execution_count": 14,
   "metadata": {},
   "outputs": [],
   "source": [
    "model = Net().to(device)\n",
    "optimizer = optim.SGD(model.parameters(), lr=learning_rate,\n",
    "                      momentum=momentum)"
   ]
  },
  {
   "cell_type": "code",
   "execution_count": 15,
   "metadata": {
    "scrolled": false
   },
   "outputs": [
    {
     "name": "stdout",
     "output_type": "stream",
     "text": [
      "Epoch # 1 Accuracy = 50.0\n",
      "Epoch # 2 Accuracy = 54.88798370672098\n",
      "Epoch # 3 Accuracy = 50.91649694501018\n",
      "Epoch # 4 Accuracy = 57.0264765784114\n",
      "Epoch # 5 Accuracy = 50.20366598778004\n",
      "Epoch # 6 Accuracy = 59.775967413441954\n",
      "Epoch # 7 Accuracy = 50.20366598778004\n",
      "Epoch # 8 Accuracy = 59.063136456211815\n",
      "Epoch # 9 Accuracy = 65.17311608961303\n",
      "Epoch # 10 Accuracy = 65.78411405295316\n",
      "Epoch # 11 Accuracy = 64.05295315682281\n",
      "Epoch # 12 Accuracy = 57.43380855397149\n",
      "Epoch # 13 Accuracy = 64.56211812627292\n",
      "Epoch # 14 Accuracy = 78.71690427698574\n",
      "Epoch # 15 Accuracy = 78.41140529531569\n",
      "Epoch # 16 Accuracy = 78.92057026476579\n",
      "Epoch # 17 Accuracy = 82.79022403258655\n",
      "Epoch # 18 Accuracy = 82.38289205702648\n",
      "Epoch # 19 Accuracy = 78.00407331975559\n",
      "Epoch # 20 Accuracy = 82.38289205702648\n",
      "Epoch # 21 Accuracy = 80.24439918533605\n",
      "Epoch # 22 Accuracy = 83.70672097759673\n",
      "Epoch # 23 Accuracy = 83.09572301425662\n",
      "Epoch # 24 Accuracy = 82.58655804480651\n",
      "Epoch # 25 Accuracy = 82.79022403258655\n",
      "Epoch # 26 Accuracy = 71.69042769857434\n",
      "Epoch # 27 Accuracy = 89.0020366598778\n",
      "Epoch # 28 Accuracy = 87.4745417515275\n",
      "Epoch # 29 Accuracy = 81.36456211812627\n",
      "Epoch # 30 Accuracy = 84.928716904277\n",
      "Epoch # 31 Accuracy = 83.29938900203666\n",
      "Epoch # 32 Accuracy = 83.80855397148676\n",
      "Epoch # 33 Accuracy = 83.91038696537679\n",
      "Epoch # 34 Accuracy = 81.67006109979633\n",
      "Epoch # 35 Accuracy = 86.65987780040734\n",
      "Epoch # 36 Accuracy = 86.45621181262729\n",
      "Epoch # 37 Accuracy = 79.53156822810591\n",
      "Epoch # 38 Accuracy = 87.9837067209776\n",
      "Epoch # 39 Accuracy = 89.30753564154786\n",
      "Epoch # 40 Accuracy = 80.24439918533605\n",
      "Epoch # 41 Accuracy = 83.80855397148676\n",
      "Epoch # 42 Accuracy = 88.90020366598777\n",
      "Epoch # 43 Accuracy = 88.59470468431772\n",
      "Epoch # 44 Accuracy = 91.75152749490834\n",
      "Epoch # 45 Accuracy = 87.9837067209776\n",
      "Epoch # 46 Accuracy = 95.21384928716904\n",
      "Epoch # 47 Accuracy = 75.86558044806517\n",
      "Epoch # 48 Accuracy = 86.9653767820774\n",
      "Epoch # 49 Accuracy = 88.08553971486762\n",
      "Epoch # 50 Accuracy = 88.90020366598777\n",
      "Epoch # 51 Accuracy = 94.09368635437882\n",
      "Epoch # 52 Accuracy = 84.5213849287169\n",
      "Epoch # 53 Accuracy = 93.07535641547861\n",
      "Epoch # 54 Accuracy = 91.64969450101833\n",
      "Epoch # 55 Accuracy = 93.9918533604888\n",
      "Epoch # 56 Accuracy = 95.11201629327903\n",
      "Epoch # 57 Accuracy = 94.80651731160896\n",
      "Epoch # 58 Accuracy = 77.90224032586558\n",
      "Epoch # 59 Accuracy = 94.60285132382892\n",
      "Epoch # 60 Accuracy = 92.4643584521385\n",
      "Epoch # 61 Accuracy = 94.80651731160896\n",
      "Epoch # 62 Accuracy = 92.15885947046843\n",
      "Epoch # 63 Accuracy = 95.01018329938901\n",
      "Epoch # 64 Accuracy = 91.75152749490834\n",
      "Epoch # 65 Accuracy = 96.02851323828921\n",
      "Epoch # 66 Accuracy = 95.82484725050917\n",
      "Epoch # 67 Accuracy = 90.52953156822811\n",
      "Epoch # 68 Accuracy = 74.84725050916497\n",
      "Epoch # 69 Accuracy = 80.95723014256619\n",
      "Epoch # 70 Accuracy = 87.27087576374745\n",
      "Epoch # 71 Accuracy = 96.13034623217924\n",
      "Epoch # 72 Accuracy = 96.13034623217924\n",
      "Epoch # 73 Accuracy = 93.27902240325867\n",
      "Epoch # 74 Accuracy = 92.76985743380855\n",
      "Epoch # 75 Accuracy = 90.32586558044807\n",
      "Epoch # 76 Accuracy = 81.05906313645622\n",
      "Epoch # 77 Accuracy = 94.29735234215886\n",
      "Epoch # 78 Accuracy = 89.40936863543789\n",
      "Epoch # 79 Accuracy = 94.39918533604889\n",
      "Epoch # 80 Accuracy = 95.21384928716904\n",
      "Epoch # 81 Accuracy = 94.80651731160896\n",
      "Epoch # 82 Accuracy = 95.21384928716904\n",
      "Epoch # 83 Accuracy = 95.9266802443992\n",
      "Epoch # 84 Accuracy = 94.70468431771894\n",
      "Epoch # 85 Accuracy = 95.9266802443992\n",
      "Epoch # 86 Accuracy = 95.31568228105907\n",
      "Epoch # 87 Accuracy = 93.58452138492872\n",
      "Epoch # 88 Accuracy = 89.91853360488798\n",
      "Epoch # 89 Accuracy = 92.66802443991853\n",
      "Epoch # 90 Accuracy = 95.21384928716904\n",
      "Epoch # 91 Accuracy = 95.5193482688391\n",
      "Epoch # 92 Accuracy = 94.5010183299389\n",
      "Epoch # 93 Accuracy = 87.57637474541752\n",
      "Epoch # 94 Accuracy = 95.11201629327903\n",
      "Epoch # 95 Accuracy = 95.21384928716904\n",
      "Epoch # 96 Accuracy = 94.60285132382892\n",
      "Epoch # 97 Accuracy = 95.41751527494908\n",
      "Epoch # 98 Accuracy = 94.60285132382892\n",
      "Epoch # 99 Accuracy = 95.5193482688391\n",
      "Epoch # 100 Accuracy = 96.02851323828921\n"
     ]
    }
   ],
   "source": [
    "epochList = []\n",
    "\n",
    "trainLossList = []\n",
    "trainAccuracyList = []\n",
    "validationAccuracyList = []\n",
    "\n",
    "\n",
    "prevAccuracy = None\n",
    "\n",
    "for epoch in range(1, 101):\n",
    "    train_loss = 0\n",
    "    for batch_idx, (img, target) in enumerate(trainData):\n",
    "        img, target = img.unsqueeze(0).float().to(device), target.long().to(device)\n",
    "        optimizer.zero_grad()\n",
    "        output = model(img)\n",
    "        loss = F.nll_loss(output, target)\n",
    "        loss.backward()\n",
    "        train_loss+=loss.item()\n",
    "        optimizer.step()\n",
    "    validationAccuracy = getAccuracyFromModel(model, validateData) * 100.\n",
    "    trainingAccuracy = getAccuracyFromModel(model, trainData) * 100.\n",
    "    \n",
    "    epochList.append(epoch)\n",
    "    trainLossList.append(train_loss)    \n",
    "    trainAccuracyList.append(trainingAccuracy)\n",
    "    validationAccuracyList.append(validationAccuracy)\n",
    "    \n",
    "    print(\"Epoch # \" + str(epoch) + \" Accuracy = \" + str(validationAccuracy))\n",
    "    if prevAccuracy is None or validationAccuracy > prevAccuracy:\n",
    "        prevAccuracy = validationAccuracy\n",
    "        torch.save(model, 'bestModel.pkl')\n",
    "\n",
    "\n",
    "\n"
   ]
  },
  {
   "cell_type": "code",
   "execution_count": 16,
   "metadata": {},
   "outputs": [
    {
     "data": {
      "text/plain": [
       "[<matplotlib.lines.Line2D at 0x7fc0228e3d90>]"
      ]
     },
     "execution_count": 16,
     "metadata": {},
     "output_type": "execute_result"
    },
    {
     "data": {
      "image/png": "[encoded data removed]",
      "text/plain": [
       "<Figure size 432x288 with 1 Axes>"
      ]
     },
     "metadata": {
      "needs_background": "light"
     },
     "output_type": "display_data"
    }
   ],
   "source": [
    "plt.plot(epochList, trainLossList)"
   ]
  },
  {
   "cell_type": "code",
   "execution_count": 17,
   "metadata": {},
   "outputs": [
    {
     "data": {
      "image/png": "[encoded data removed]",
      "text/plain": [
       "<Figure size 432x288 with 1 Axes>"
      ]
     },
     "metadata": {
      "needs_background": "light"
     },
     "output_type": "display_data"
    }
   ],
   "source": [
    "plt.plot(epochList, trainAccuracyList, label= \"Train\")\n",
    "plt.plot(epochList, validationAccuracyList, label = \"Validate\")\n",
    "plt.legend()\n",
    "plt.show()"
   ]
  },
  {
   "cell_type": "code",
   "execution_count": 18,
   "metadata": {},
   "outputs": [
    {
     "name": "stdout",
     "output_type": "stream",
     "text": [
      "Accuracy on testData 96.14604462474645\n"
     ]
    }
   ],
   "source": [
    "model = torch.load('bestModel.pkl')\n",
    "accuracy = getAccuracyFromModel(model, testData) * 100.\n",
    "print(\"Accuracy on testData \" + str(accuracy))\n"
   ]
  },
  {
   "cell_type": "code",
   "execution_count": null,
   "metadata": {},
   "outputs": [],
   "source": []
  }
 ],
 "metadata": {
  "kernelspec": {
   "display_name": "Python 3",
   "language": "python",
   "name": "python3"
  },
  "language_info": {
   "codemirror_mode": {
    "name": "ipython",
    "version": 3
   },
   "file_extension": ".py",
   "mimetype": "text/x-python",
   "name": "python",
   "nbconvert_exporter": "python",
   "pygments_lexer": "ipython3",
   "version": "3.8.5"
  }
 },
 "nbformat": 4,
 "nbformat_minor": 4
}
