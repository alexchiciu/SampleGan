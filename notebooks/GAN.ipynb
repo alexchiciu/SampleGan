{
 "cells": [
  {
   "cell_type": "code",
   "execution_count": 2,
   "metadata": {},
   "outputs": [],
   "source": [
    "import os\n",
    "import numpy as np\n",
    "import nibabel as nib\n",
    "from sklearn.preprocessing import StandardScaler\n",
    "import matplotlib.pyplot as plt\n",
    "import torch"
   ]
  },
  {
   "cell_type": "code",
   "execution_count": 3,
   "metadata": {},
   "outputs": [],
   "source": [
    "def normalize_3d_matrix(matrix):\n",
    "    x,y,z = matrix.shape\n",
    "    matrix = StandardScaler().fit_transform(np.reshape(matrix, (x*y, z)))\n",
    "    matrix = StandardScaler().fit_transform(np.reshape(matrix, (x, y*z)))\n",
    "    return np.reshape(matrix, (x,y,z))"
   ]
  },
  {
   "cell_type": "code",
   "execution_count": null,
   "metadata": {},
   "outputs": [],
   "source": [
    "def transform_matrix_to_training(matrix, numberOfCrops):\n",
    "    x,y,z = matrix.shape\n",
    "    for num in range(numberOfCrops):\n",
    "        print(matrix[])"
   ]
  },
  {
   "cell_type": "code",
   "execution_count": null,
   "metadata": {},
   "outputs": [],
   "source": []
  }
 ],
 "metadata": {
  "kernelspec": {
   "display_name": "Python 3",
   "language": "python",
   "name": "python3"
  },
  "language_info": {
   "codemirror_mode": {
    "name": "ipython",
    "version": 3
   },
   "file_extension": ".py",
   "mimetype": "text/x-python",
   "name": "python",
   "nbconvert_exporter": "python",
   "pygments_lexer": "ipython3",
   "version": "3.8.5"
  }
 },
 "nbformat": 4,
 "nbformat_minor": 4
}
