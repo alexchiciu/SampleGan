{
 "cells": [
  {
   "cell_type": "code",
   "execution_count": 1,
   "metadata": {},
   "outputs": [],
   "source": [
    "import torch\n",
    "import torch.nn as nn\n",
    "import numpy as np\n",
    "from torch.utils.data import DataLoader, random_split, ChainDataset\n",
    "import torch.optim as optim\n",
    "import matplotlib.pyplot as plt "
   ]
  },
  {
   "cell_type": "code",
   "execution_count": 2,
   "metadata": {},
   "outputs": [],
   "source": [
    "device = torch.device(\"cuda:0\" if (torch.cuda.is_available()) else \"cpu\")\n"
   ]
  },
  {
   "cell_type": "code",
   "execution_count": 3,
   "metadata": {},
   "outputs": [],
   "source": [
    "class Discriminator(nn.Module):\n",
    "    def __init__(self):\n",
    "        super(Discriminator, self).__init__()\n",
    "        n_classes = 2\n",
    "        img_shape = (1,20,20,20)\n",
    "\n",
    "        self.model = nn.Sequential(\n",
    "            nn.Linear((1*20*20*20), 512),\n",
    "            nn.LeakyReLU(0.2, inplace=True),\n",
    "            nn.Linear(512, 512),\n",
    "            nn.Dropout(0.4),\n",
    "            nn.LeakyReLU(0.2, inplace=True),\n",
    "            nn.Linear(512, 512),\n",
    "            nn.Dropout(0.4),\n",
    "            nn.LeakyReLU(0.2, inplace=True),\n",
    "            nn.Linear(512, 1),\n",
    "            nn.Sigmoid()\n",
    "        )\n",
    "\n",
    "    def forward(self, img):\n",
    "        validity = self.model(img)\n",
    "        return validity\n"
   ]
  },
  {
   "cell_type": "code",
   "execution_count": 4,
   "metadata": {},
   "outputs": [
    {
     "data": {
      "text/plain": [
       "(1967, 20, 20, 20)"
      ]
     },
     "execution_count": 4,
     "metadata": {},
     "output_type": "execute_result"
    }
   ],
   "source": [
    "realImages = np.load(\"originalSubsets.npy\")\n",
    "realImages.shape"
   ]
  },
  {
   "cell_type": "code",
   "execution_count": 5,
   "metadata": {},
   "outputs": [
    {
     "data": {
      "text/plain": [
       "(1967, 20, 20, 20)"
      ]
     },
     "execution_count": 5,
     "metadata": {},
     "output_type": "execute_result"
    }
   ],
   "source": [
    "fakeImages = np.load(\"rescaledSubsets.npy\")\n",
    "fakeImages.shape"
   ]
  },
  {
   "cell_type": "code",
   "execution_count": 6,
   "metadata": {},
   "outputs": [],
   "source": [
    "import random\n",
    "random.shuffle(realImages)\n",
    "random.shuffle(fakeImages)\n",
    "data = []\n",
    "for realImage in realImages[:1372]:\n",
    "    data.append((realImage,0.))\n",
    "\n",
    "for fakeImage in fakeImages[:1372]:\n",
    "    data.append((fakeImage, 1.))"
   ]
  },
  {
   "cell_type": "code",
   "execution_count": 7,
   "metadata": {},
   "outputs": [],
   "source": [
    "data = DataLoader(data, shuffle=True)"
   ]
  },
  {
   "cell_type": "code",
   "execution_count": 8,
   "metadata": {},
   "outputs": [
    {
     "name": "stdout",
     "output_type": "stream",
     "text": [
      "Discriminator(\n",
      "  (model): Sequential(\n",
      "    (0): Linear(in_features=8000, out_features=512, bias=True)\n",
      "    (1): LeakyReLU(negative_slope=0.2, inplace=True)\n",
      "    (2): Linear(in_features=512, out_features=512, bias=True)\n",
      "    (3): Dropout(p=0.4, inplace=False)\n",
      "    (4): LeakyReLU(negative_slope=0.2, inplace=True)\n",
      "    (5): Linear(in_features=512, out_features=512, bias=True)\n",
      "    (6): Dropout(p=0.4, inplace=False)\n",
      "    (7): LeakyReLU(negative_slope=0.2, inplace=True)\n",
      "    (8): Linear(in_features=512, out_features=1, bias=True)\n",
      "    (9): Sigmoid()\n",
      "  )\n",
      ")\n"
     ]
    }
   ],
   "source": [
    "model = Discriminator().to(device)\n",
    "print(model)"
   ]
  },
  {
   "cell_type": "code",
   "execution_count": 9,
   "metadata": {},
   "outputs": [],
   "source": [
    "\n",
    "\n",
    "\n",
    "adversarial_loss = torch.nn.MSELoss().to(device)\n",
    "\n",
    "optimizer_D = torch.optim.SGD(model.parameters(), lr=0.001)\n",
    "\n"
   ]
  },
  {
   "cell_type": "code",
   "execution_count": 10,
   "metadata": {},
   "outputs": [
    {
     "name": "stdout",
     "output_type": "stream",
     "text": [
      "Epoch: 1 Training Loss: 687.0792573988438 Accuracy: 0.4923469387755102\n",
      "Epoch: 10 Training Loss: 665.0579213500023 Accuracy: 0.5692419825072886\n",
      "Epoch: 20 Training Loss: 618.4765559930529 Accuracy: 0.6071428571428571\n",
      "Epoch: 30 Training Loss: 589.9055464809308 Accuracy: 0.6297376093294461\n",
      "Epoch: 40 Training Loss: 565.3987080487191 Accuracy: 0.6341107871720116\n",
      "Epoch: 50 Training Loss: 552.1629909680438 Accuracy: 0.6505102040816326\n",
      "Epoch: 60 Training Loss: 540.630946274371 Accuracy: 0.6435860058309038\n",
      "Epoch: 70 Training Loss: 523.534840907956 Accuracy: 0.6592565597667639\n",
      "Epoch: 80 Training Loss: 515.9429292314644 Accuracy: 0.6661807580174927\n",
      "Epoch: 90 Training Loss: 501.05008676866953 Accuracy: 0.6818513119533528\n",
      "Epoch: 100 Training Loss: 487.84453242716427 Accuracy: 0.6916909620991254\n"
     ]
    }
   ],
   "source": [
    "iterations = 100\n",
    "x = []\n",
    "y = []\n",
    "for epoch in range(1, iterations+1):\n",
    "    loss_train = 0.0\n",
    "    correct = 0\n",
    "    total = 0    \n",
    "    for (img, label) in data:\n",
    "        \n",
    "        img = img.view(-1).float().to(device)\n",
    "        label = label.float().to(device)\n",
    "        model.eval()\n",
    "        output = model(img)\n",
    "        \n",
    "        if output >= .5 and label == 1.:\n",
    "            correct +=1\n",
    "        elif output < .5 and label == 0:\n",
    "            correct+=1\n",
    "        \n",
    "        total +=1\n",
    "        \n",
    "        optimizer_D.zero_grad()\n",
    "        errD_real = adversarial_loss(output, label)\n",
    "        errD_real.backward()\n",
    "        loss_train+=errD_real.item()\n",
    "        optimizer_D.step()\n",
    "        \n",
    "    x.append(epoch)\n",
    "    y.append(loss_train)\n",
    "    \n",
    "    if epoch == 1 or not epoch % 10:\n",
    "        print(\"Epoch: \" + str(epoch) + \" Training Loss: \" + str(loss_train)  \n",
    "              + \" Accuracy: \" + str(float(correct/total)))"
   ]
  },
  {
   "cell_type": "code",
   "execution_count": 13,
   "metadata": {},
   "outputs": [
    {
     "data": {
      "text/plain": [
       "[<matplotlib.lines.Line2D at 0x7f4284d52dc0>]"
      ]
     },
     "execution_count": 13,
     "metadata": {},
     "output_type": "execute_result"
    },
    {
     "data": {
      "image/png": "[encoded data removed]",
      "text/plain": [
       "<Figure size 432x288 with 1 Axes>"
      ]
     },
     "metadata": {
      "needs_background": "light"
     },
     "output_type": "display_data"
    }
   ],
   "source": [
    "plt.plot(x,y)"
   ]
  },
  {
   "cell_type": "code",
   "execution_count": 14,
   "metadata": {},
   "outputs": [],
   "source": [
    "testData = []\n",
    "for realImage in realImages[1372:]:\n",
    "    testData.append((realImage,0.))\n",
    "\n",
    "for fakeImage in fakeImages[1372:]:\n",
    "    testData.append((fakeImage, 1.))"
   ]
  },
  {
   "cell_type": "code",
   "execution_count": 15,
   "metadata": {},
   "outputs": [],
   "source": [
    "testData = DataLoader(testData, shuffle=True)"
   ]
  },
  {
   "cell_type": "code",
   "execution_count": 16,
   "metadata": {},
   "outputs": [
    {
     "name": "stdout",
     "output_type": "stream",
     "text": [
      "Test accuracy = 0.5756302521008403\n"
     ]
    }
   ],
   "source": [
    "testCorrect = 0\n",
    "testTotal = 0\n",
    "with torch.no_grad():\n",
    "    for (img, label) in testData:\n",
    "        img = img.view(-1).float().to(device)\n",
    "        label = label.float().to(device)\n",
    "        model.eval()\n",
    "        output = model(img)\n",
    "        \n",
    "        if output >= .5 and label == 1.:\n",
    "            testCorrect +=1\n",
    "        elif output < .5 and label == 0:\n",
    "            testCorrect+=1\n",
    "        \n",
    "        testTotal +=1\n",
    "        \n",
    "print(\"Test accuracy = \" + str(float(testCorrect/testTotal)))"
   ]
  }
 ],
 "metadata": {
  "kernelspec": {
   "display_name": "Python 3",
   "language": "python",
   "name": "python3"
  },
  "language_info": {
   "codemirror_mode": {
    "name": "ipython",
    "version": 3
   },
   "file_extension": ".py",
   "mimetype": "text/x-python",
   "name": "python",
   "nbconvert_exporter": "python",
   "pygments_lexer": "ipython3",
   "version": "3.8.5"
  }
 },
 "nbformat": 4,
 "nbformat_minor": 4
}
